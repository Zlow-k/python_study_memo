{
 "cells": [
  {
   "cell_type": "code",
   "execution_count": 1,
   "id": "737b02f7",
   "metadata": {},
   "outputs": [
    {
     "name": "stderr",
     "output_type": "stream",
     "text": [
      "WARNING\n",
      "ERROR\n",
      "CRITICAL\n"
     ]
    }
   ],
   "source": [
    "import logging\n",
    "\n",
    "logging.basicConfig(\n",
    "format='%(levelname)s'\n",
    ")\n",
    "\n",
    "logging.debug('デバッグレベル')\n",
    "logging.info('INFOレベル')\n",
    "logging.warning('警告レベル')\n",
    "logging.error('エラーレベル')\n",
    "logging.critical('重大なエラー')\n"
   ]
  },
  {
   "cell_type": "code",
   "execution_count": 1,
   "id": "98a32e05",
   "metadata": {},
   "outputs": [],
   "source": [
    "import time"
   ]
  },
  {
   "cell_type": "code",
   "execution_count": 2,
   "id": "a4342d24",
   "metadata": {},
   "outputs": [
    {
     "data": {
      "text/plain": [
       "time.struct_time(tm_year=2025, tm_mon=10, tm_mday=20, tm_hour=23, tm_min=29, tm_sec=22, tm_wday=0, tm_yday=293, tm_isdst=0)"
      ]
     },
     "execution_count": 2,
     "metadata": {},
     "output_type": "execute_result"
    }
   ],
   "source": [
    "time.gmtime()"
   ]
  },
  {
   "cell_type": "code",
   "execution_count": 3,
   "id": "65d73bfc",
   "metadata": {},
   "outputs": [
    {
     "data": {
      "text/plain": [
       "time.struct_time(tm_year=2025, tm_mon=10, tm_mday=20, tm_hour=23, tm_min=29, tm_sec=33, tm_wday=0, tm_yday=293, tm_isdst=0)"
      ]
     },
     "execution_count": 3,
     "metadata": {},
     "output_type": "execute_result"
    }
   ],
   "source": [
    "time.gmtime()"
   ]
  },
  {
   "cell_type": "code",
   "execution_count": 4,
   "id": "b3964d0f",
   "metadata": {},
   "outputs": [
    {
     "data": {
      "text/plain": [
       "time.struct_time(tm_year=2025, tm_mon=10, tm_mday=21, tm_hour=8, tm_min=30, tm_sec=5, tm_wday=1, tm_yday=294, tm_isdst=0)"
      ]
     },
     "execution_count": 4,
     "metadata": {},
     "output_type": "execute_result"
    }
   ],
   "source": [
    "time.localtime()"
   ]
  },
  {
   "cell_type": "code",
   "execution_count": 5,
   "id": "e2cca46d",
   "metadata": {},
   "outputs": [
    {
     "data": {
      "text/plain": [
       "True"
      ]
     },
     "execution_count": 5,
     "metadata": {},
     "output_type": "execute_result"
    }
   ],
   "source": [
    "'ab' < 'abc'"
   ]
  },
  {
   "cell_type": "code",
   "execution_count": 6,
   "id": "e7b11f2e",
   "metadata": {},
   "outputs": [
    {
     "data": {
      "text/plain": [
       "False"
      ]
     },
     "execution_count": 6,
     "metadata": {},
     "output_type": "execute_result"
    }
   ],
   "source": [
    "'a' < 'B'"
   ]
  },
  {
   "cell_type": "code",
   "execution_count": 2,
   "id": "45a9d1c6",
   "metadata": {},
   "outputs": [
    {
     "name": "stdout",
     "output_type": "stream",
     "text": [
      "Spám\n"
     ]
    }
   ],
   "source": [
    "import unicodedata\n",
    "\n",
    "print(unicodedata.normalize('NFC', 'Spa\\u0301m'))"
   ]
  },
  {
   "cell_type": "code",
   "execution_count": null,
   "id": "712f05cd",
   "metadata": {},
   "outputs": [],
   "source": [
    "def attach_custom_dict(**kwargs):\n",
    "    default_dict = {\n",
    "        'address': 'tokyo',\n",
    "    }\n",
    "\n",
    "    for key, value in kwargs.items():\n",
    "        default_dict[key] = value\n",
    "    \n",
    "    return default_dict\n",
    "\n",
    "user = { 'name': 'taro', 'age': 20 }"
   ]
  },
  {
   "cell_type": "code",
   "execution_count": 6,
   "id": "52fd2f23",
   "metadata": {},
   "outputs": [
    {
     "ename": "TypeError",
     "evalue": "attach_custom_dict() takes 0 positional arguments but 1 was given",
     "output_type": "error",
     "traceback": [
      "\u001b[31m---------------------------------------------------------------------------\u001b[39m",
      "\u001b[31mTypeError\u001b[39m                                 Traceback (most recent call last)",
      "\u001b[36mCell\u001b[39m\u001b[36m \u001b[39m\u001b[32mIn[6]\u001b[39m\u001b[32m, line 1\u001b[39m\n\u001b[32m----> \u001b[39m\u001b[32m1\u001b[39m \u001b[38;5;28mprint\u001b[39m(\u001b[43mattach_custom_dict\u001b[49m\u001b[43m(\u001b[49m\u001b[43muser\u001b[49m\u001b[43m)\u001b[49m)\n",
      "\u001b[31mTypeError\u001b[39m: attach_custom_dict() takes 0 positional arguments but 1 was given"
     ]
    }
   ],
   "source": [
    "print(attach_custom_dict(user))"
   ]
  },
  {
   "cell_type": "code",
   "execution_count": 11,
   "id": "b82e1f16",
   "metadata": {},
   "outputs": [
    {
     "name": "stdout",
     "output_type": "stream",
     "text": [
      "{'key1': ['value1', 'value2'], 'key2': ['value3']}\n"
     ]
    }
   ],
   "source": [
    "from urllib import parse\n",
    "\n",
    "query = 'key1=value1&key1=value2&key2=value3'\n",
    "print(parse.parse_qs(query))"
   ]
  },
  {
   "cell_type": "code",
   "execution_count": 10,
   "id": "e311407d",
   "metadata": {},
   "outputs": [
    {
     "name": "stdout",
     "output_type": "stream",
     "text": [
      "2\n"
     ]
    }
   ],
   "source": [
    "import json\n",
    "data = json.loads(\"[1, 2, 3]\")\n",
    "print(data[1])"
   ]
  },
  {
   "cell_type": "code",
   "execution_count": 11,
   "id": "9bf92da7",
   "metadata": {},
   "outputs": [
    {
     "data": {
      "text/plain": [
       "[1, 2, 3]"
      ]
     },
     "execution_count": 11,
     "metadata": {},
     "output_type": "execute_result"
    }
   ],
   "source": [
    "data"
   ]
  },
  {
   "cell_type": "code",
   "execution_count": 16,
   "id": "e06430b4",
   "metadata": {},
   "outputs": [],
   "source": [
    "import datetime, zoneinfo\n",
    "now = datetime.datetime.now(zoneinfo.ZoneInfo(\"Asia/Tokyo\"))"
   ]
  },
  {
   "cell_type": "code",
   "execution_count": 17,
   "id": "e22f8f84",
   "metadata": {},
   "outputs": [
    {
     "data": {
      "text/plain": [
       "datetime.timedelta(days=1392, seconds=2654, microseconds=912604)"
      ]
     },
     "execution_count": 17,
     "metadata": {},
     "output_type": "execute_result"
    }
   ],
   "source": [
    "now - datetime.datetime(2022, 1, 1, 0, 0,tzinfo=zoneinfo.ZoneInfo(\"America/Los_Angeles\"))"
   ]
  },
  {
   "cell_type": "code",
   "execution_count": 19,
   "id": "7b9ab512",
   "metadata": {},
   "outputs": [
    {
     "data": {
      "text/plain": [
       "datetime.datetime(2025, 10, 15, 17, 44, 14, 912604, tzinfo=zoneinfo.ZoneInfo(key='Asia/Tokyo'))"
      ]
     },
     "execution_count": 19,
     "metadata": {},
     "output_type": "execute_result"
    }
   ],
   "source": [
    "now-datetime.timedelta(9)"
   ]
  },
  {
   "cell_type": "code",
   "execution_count": 21,
   "id": "d1023a70",
   "metadata": {},
   "outputs": [
    {
     "name": "stdout",
     "output_type": "stream",
     "text": [
      "2025-10-24\n"
     ]
    }
   ],
   "source": [
    "print(f\"{now:%Y-%m-%d}\")"
   ]
  },
  {
   "cell_type": "code",
   "execution_count": 23,
   "id": "a9851614",
   "metadata": {},
   "outputs": [
    {
     "ename": "TypeError",
     "evalue": "can't subtract offset-naive and offset-aware datetimes",
     "output_type": "error",
     "traceback": [
      "\u001b[31m---------------------------------------------------------------------------\u001b[39m",
      "\u001b[31mTypeError\u001b[39m                                 Traceback (most recent call last)",
      "\u001b[36mCell\u001b[39m\u001b[36m \u001b[39m\u001b[32mIn[23]\u001b[39m\u001b[32m, line 1\u001b[39m\n\u001b[32m----> \u001b[39m\u001b[32m1\u001b[39m \u001b[43mnow\u001b[49m\u001b[43m \u001b[49m\u001b[43m-\u001b[49m\u001b[43m \u001b[49m\u001b[43mdatetime\u001b[49m\u001b[43m.\u001b[49m\u001b[43mdatetime\u001b[49m\u001b[43m(\u001b[49m\u001b[32;43m2022\u001b[39;49m\u001b[43m,\u001b[49m\u001b[43m \u001b[49m\u001b[32;43m1\u001b[39;49m\u001b[43m,\u001b[49m\u001b[43m \u001b[49m\u001b[32;43m1\u001b[39;49m\u001b[43m,\u001b[49m\u001b[43m \u001b[49m\u001b[32;43m0\u001b[39;49m\u001b[43m,\u001b[49m\u001b[43m \u001b[49m\u001b[32;43m0\u001b[39;49m\u001b[43m)\u001b[49m\n",
      "\u001b[31mTypeError\u001b[39m: can't subtract offset-naive and offset-aware datetimes"
     ]
    }
   ],
   "source": [
    "now - datetime.datetime(2022, 1, 1, 0, 0)"
   ]
  },
  {
   "cell_type": "code",
   "execution_count": null,
   "id": "cfe0023e",
   "metadata": {},
   "outputs": [],
   "source": []
  }
 ],
 "metadata": {
  "kernelspec": {
   "display_name": "venv",
   "language": "python",
   "name": "python3"
  },
  "language_info": {
   "codemirror_mode": {
    "name": "ipython",
    "version": 3
   },
   "file_extension": ".py",
   "mimetype": "text/x-python",
   "name": "python",
   "nbconvert_exporter": "python",
   "pygments_lexer": "ipython3",
   "version": "3.13.8"
  }
 },
 "nbformat": 4,
 "nbformat_minor": 5
}
