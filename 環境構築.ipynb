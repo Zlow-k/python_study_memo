{
 "cells": [
  {
   "cell_type": "markdown",
   "id": "557e58ff",
   "metadata": {},
   "source": [
    "## 環境構築\n",
    "\n",
    "#### 1.KaggleのイメージをDL\n",
    "```$ docker pull gcr.io/kaggle-gpu-images/python:latest```\n",
    "\n",
    "#### 2.コンテナをビルド\n",
    "```docker run -itd --gpus all -p 8888:8888 ` -v \"${PWD}\\target:/home\" ` --name kaggle ` gcr.io/kaggle-gpu-images/python ` /bin/bash```\n",
    "targetのところを自分の作業ディレクトリに変える\n",
    "\n",
    "#### 3.VSCode（cursor）からコンテナへアタッチ\n",
    "VSCodeでCtrl + Shift + pでコマンドパレットを開き、開発コンテナ：実行中のコンテナにアタッチ.../Dev Containers: Attach to Running Container...を選択、先ほど起動したimageを選択\n",
    "\n",
    "コンテナから抜けるとき\n",
    "```exit```\n",
    "\n",
    "コンテナを再度起動するとき\n",
    "```docker start kaggle```"
   ]
  },
  {
   "cell_type": "code",
   "execution_count": 1,
   "id": "d688e7f7",
   "metadata": {},
   "outputs": [
    {
     "name": "stdout",
     "output_type": "stream",
     "text": [
      "CUDA 有効: True\n",
      "GPU名: NVIDIA GeForce RTX 3080\n"
     ]
    }
   ],
   "source": [
    "import torch\n",
    "print(\"CUDA 有効:\", torch.cuda.is_available())\n",
    "if torch.cuda.is_available():\n",
    "    print(\"GPU名:\", torch.cuda.get_device_name(0))"
   ]
  }
 ],
 "metadata": {
  "kernelspec": {
   "display_name": "Python 3",
   "language": "python",
   "name": "python3"
  },
  "language_info": {
   "codemirror_mode": {
    "name": "ipython",
    "version": 3
   },
   "file_extension": ".py",
   "mimetype": "text/x-python",
   "name": "python",
   "nbconvert_exporter": "python",
   "pygments_lexer": "ipython3",
   "version": "3.11.13"
  }
 },
 "nbformat": 4,
 "nbformat_minor": 5
}
