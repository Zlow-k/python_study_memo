{
 "cells": [
  {
   "cell_type": "code",
   "execution_count": 4,
   "id": "9f68dd9a",
   "metadata": {},
   "outputs": [],
   "source": [
    "# パッケージのimport\n",
    "import numpy as np\n",
    "import random\n",
    "\n",
    "import torch\n",
    "import torch.nn as nn\n",
    "import torch.optim as optim\n",
    "\n",
    "from torchvision import models\n",
    "\n",
    "from tqdm import tqdm"
   ]
  },
  {
   "cell_type": "code",
   "execution_count": 5,
   "id": "ce337d55",
   "metadata": {},
   "outputs": [],
   "source": [
    "from utils.dataloader_image_classification import ImageTransform, make_datapath_list, HymenopteraDataset"
   ]
  },
  {
   "cell_type": "code",
   "execution_count": 22,
   "id": "91f717b7",
   "metadata": {},
   "outputs": [],
   "source": [
    "# 乱数のシードを設定\n",
    "torch.manual_seed(1234)\n",
    "np.random.seed(1234)\n",
    "random.seed(1234)"
   ]
  },
  {
   "cell_type": "code",
   "execution_count": 23,
   "id": "b1e01534",
   "metadata": {},
   "outputs": [
    {
     "name": "stdout",
     "output_type": "stream",
     "text": [
      "./data/hymenoptera_data/train/**/*.jpg\n",
      "./data/hymenoptera_data/val/**/*.jpg\n"
     ]
    }
   ],
   "source": [
    "train_list = make_datapath_list(phase=\"train\")\n",
    "val_list = make_datapath_list(phase=\"val\")\n",
    "\n",
    "size = 224\n",
    "mean = (0.485, 0.456, 0.406)\n",
    "std = (0.229, 0.224, 0.225)\n",
    "train_dataset = HymenopteraDataset(\n",
    "    file_list=train_list, transform=ImageTransform(size, mean, std), phase='train')\n",
    "\n",
    "C = HymenopteraDataset(\n",
    "    file_list=val_list, transform=ImageTransform(size, mean, std), phase='val')\n",
    "\n",
    "batch_size = 32\n",
    "\n",
    "train_dataloader = torch.utils.data.DataLoader(\n",
    "    train_dataset, batch_size=batch_size, shuffle=True)\n",
    "\n",
    "val_dataloader = torch.utils.data.DataLoader(\n",
    "    val_dataset, batch_size=batch_size, shuffle=False)\n",
    "\n",
    "dataloaders_dict = {'train': train_dataloader, 'val': val_dataloader}"
   ]
  },
  {
   "cell_type": "code",
   "execution_count": 24,
   "id": "838a460b",
   "metadata": {},
   "outputs": [
    {
     "name": "stderr",
     "output_type": "stream",
     "text": [
      "/usr/local/lib/python3.11/dist-packages/torchvision/models/_utils.py:208: UserWarning: The parameter 'pretrained' is deprecated since 0.13 and may be removed in the future, please use 'weights' instead.\n",
      "  warnings.warn(\n",
      "/usr/local/lib/python3.11/dist-packages/torchvision/models/_utils.py:223: UserWarning: Arguments other than a weight enum or `None` for 'weights' are deprecated since 0.13 and may be removed in the future. The current behavior is equivalent to passing `weights=VGG16_Weights.IMAGENET1K_V1`. You can also use `weights=VGG16_Weights.DEFAULT` to get the most up-to-date weights.\n",
      "  warnings.warn(msg)\n"
     ]
    },
    {
     "name": "stdout",
     "output_type": "stream",
     "text": [
      "ネットワーク設定完了：学習済みの重みをロードし、訓練モードに設定しました\n"
     ]
    }
   ],
   "source": [
    "use_pretrained = True\n",
    "net = models.vgg16(pretrained=use_pretrained)\n",
    "\n",
    "net.classifier[6] = nn.Linear(in_features=4096, out_features=2)\n",
    "\n",
    "net.train()\n",
    "\n",
    "print(\"ネットワーク設定完了：学習済みの重みをロードし、訓練モードに設定しました\")"
   ]
  },
  {
   "cell_type": "code",
   "execution_count": 25,
   "id": "04dc5d6d",
   "metadata": {},
   "outputs": [
    {
     "name": "stdout",
     "output_type": "stream",
     "text": [
      "params_to_update_1に格納: features.0.weight\n",
      "params_to_update_1に格納: features.0.bias\n",
      "params_to_update_1に格納: features.2.weight\n",
      "params_to_update_1に格納: features.2.bias\n",
      "params_to_update_1に格納: features.5.weight\n",
      "params_to_update_1に格納: features.5.bias\n",
      "params_to_update_1に格納: features.7.weight\n",
      "params_to_update_1に格納: features.7.bias\n",
      "params_to_update_1に格納: features.10.weight\n",
      "params_to_update_1に格納: features.10.bias\n",
      "params_to_update_1に格納: features.12.weight\n",
      "params_to_update_1に格納: features.12.bias\n",
      "params_to_update_1に格納: features.14.weight\n",
      "params_to_update_1に格納: features.14.bias\n",
      "params_to_update_1に格納: features.17.weight\n",
      "params_to_update_1に格納: features.17.bias\n",
      "params_to_update_1に格納: features.19.weight\n",
      "params_to_update_1に格納: features.19.bias\n",
      "params_to_update_1に格納: features.21.weight\n",
      "params_to_update_1に格納: features.21.bias\n",
      "params_to_update_1に格納: features.24.weight\n",
      "params_to_update_1に格納: features.24.bias\n",
      "params_to_update_1に格納: features.26.weight\n",
      "params_to_update_1に格納: features.26.bias\n",
      "params_to_update_1に格納: features.28.weight\n",
      "params_to_update_1に格納: features.28.bias\n",
      "params_to_update_2に格納: classifier.0.weight\n",
      "params_to_update_2に格納: classifier.0.bias\n",
      "params_to_update_2に格納: classifier.3.weight\n",
      "params_to_update_2に格納: classifier.3.bias\n",
      "params_to_update_3に格納: classifier.6.weight\n",
      "params_to_update_3に格納: classifier.6.bias\n"
     ]
    }
   ],
   "source": [
    "criterion = nn.CrossEntropyLoss()\n",
    "\n",
    "params_to_update_1 = []\n",
    "params_to_update_2 = []\n",
    "params_to_update_3 = []\n",
    "\n",
    "update_param_names_1 = [\"features\"]\n",
    "update_param_names_2 = [\"classifier.0.weight\", \"classifier.0.bias\", \"classifier.3.weight\", \"classifier.3.bias\"]\n",
    "update_param_names_3 = [\"classifier.6.weight\", \"classifier.6.bias\"]\n",
    "\n",
    "for name, param in net.named_parameters():\n",
    "    if update_param_names_1[0] in name:\n",
    "        param.requires_grad = True\n",
    "        params_to_update_1.append(param)\n",
    "        print(f\"params_to_update_1に格納:\", name)\n",
    "        \n",
    "    elif name in update_param_names_2:\n",
    "        param.requires_grad = True\n",
    "        params_to_update_2.append(param)\n",
    "        print(f\"params_to_update_2に格納:\", name)\n",
    "        \n",
    "    elif name in update_param_names_3:\n",
    "        param.requires_grad = True\n",
    "        params_to_update_3.append(param)\n",
    "        print(f\"params_to_update_3に格納:\", name)\n",
    "        \n",
    "    else:\n",
    "        param.requires_grad = False\n",
    "        print(\"勾配計算なし。学習しない:\", name)"
   ]
  },
  {
   "cell_type": "code",
   "execution_count": 26,
   "id": "a45f3d0b",
   "metadata": {},
   "outputs": [],
   "source": [
    "optimizer = optim.SGD([\n",
    "    {'params': params_to_update_1, 'lr': 1e-4},\n",
    "    {'params': params_to_update_2, 'lr': 5e-4},\n",
    "    {'params': params_to_update_3, 'lr': 1e-3}\n",
    "], momentum=0.9)"
   ]
  },
  {
   "cell_type": "code",
   "execution_count": 27,
   "id": "81b90ca9",
   "metadata": {},
   "outputs": [],
   "source": [
    "def train_model(net, dataloaders_dict, criterion, optimizer, num_epochs):\n",
    "    device = torch.device(\"cuda:0\" if torch.cuda.is_available() else \"cpu\")\n",
    "    print(\"使用デバイス：\", device)\n",
    "    \n",
    "    net.to(device)\n",
    "    \n",
    "    torch.backends.cudnn.benchmark = True\n",
    "    \n",
    "    for epoch in range(num_epochs):\n",
    "        print(f\"Epoch {epoch+1}/{num_epochs}\")\n",
    "        print(\"-------------\")\n",
    "        \n",
    "        for phase in ['train', 'val']:\n",
    "            if phase == 'train':\n",
    "                net.train()\n",
    "            else:\n",
    "                net.eval()\n",
    "            \n",
    "            epoch_loss = 0.0\n",
    "            epoch_corrects = 0\n",
    "            \n",
    "            if (epoch == 0) and (phase == \"train\"):\n",
    "                continue\n",
    "            \n",
    "            for inputs, labels in tqdm(dataloaders_dict[phase]):\n",
    "                inputs = inputs.to(device)\n",
    "                labels = labels.to(device)\n",
    "                \n",
    "                optimizer.zero_grad()\n",
    "                \n",
    "                with torch.set_grad_enabled(phase == 'train'):\n",
    "                    outputs = net(inputs)\n",
    "                    loss = criterion(outputs, labels)\n",
    "                    _, preds = torch.max(outputs, 1)\n",
    "                    \n",
    "                    if phase == 'train':\n",
    "                        loss.backward()\n",
    "                        optimizer.step()\n",
    "                        \n",
    "                    epoch_loss += loss.item() * inputs.size(0)\n",
    "                    epoch_corrects += torch.sum(preds==labels.data)\n",
    "                        \n",
    "            epoch_loss = epoch_loss / len(dataloaders_dict[phase].dataset)\n",
    "            epoch_acc = epoch_corrects.double() / len(dataloaders_dict[phase].dataset)\n",
    "            \n",
    "            print(f'{phase} Loss: {epoch_loss:.4f} Acc: {epoch_acc:.4f}')"
   ]
  },
  {
   "cell_type": "code",
   "execution_count": 28,
   "id": "c53cf590",
   "metadata": {},
   "outputs": [
    {
     "name": "stdout",
     "output_type": "stream",
     "text": [
      "使用デバイス： cuda:0\n",
      "Epoch 1/2\n",
      "-------------\n"
     ]
    },
    {
     "name": "stderr",
     "output_type": "stream",
     "text": [
      "100%|██████████| 5/5 [00:01<00:00,  3.66it/s]\n"
     ]
    },
    {
     "name": "stdout",
     "output_type": "stream",
     "text": [
      "val Loss: 0.7701 Acc: 0.4444\n",
      "Epoch 2/2\n",
      "-------------\n"
     ]
    },
    {
     "name": "stderr",
     "output_type": "stream",
     "text": [
      "100%|██████████| 8/8 [00:03<00:00,  2.57it/s]\n"
     ]
    },
    {
     "name": "stdout",
     "output_type": "stream",
     "text": [
      "train Loss: 0.5052 Acc: 0.7325\n"
     ]
    },
    {
     "name": "stderr",
     "output_type": "stream",
     "text": [
      "100%|██████████| 5/5 [00:01<00:00,  3.61it/s]"
     ]
    },
    {
     "name": "stdout",
     "output_type": "stream",
     "text": [
      "val Loss: 0.1828 Acc: 0.9608\n"
     ]
    },
    {
     "name": "stderr",
     "output_type": "stream",
     "text": [
      "\n"
     ]
    }
   ],
   "source": [
    "num_epochs = 2\n",
    "train_model(net, dataloaders_dict, criterion, optimizer, num_epochs=num_epochs)"
   ]
  },
  {
   "cell_type": "code",
   "execution_count": null,
   "id": "dc3a5232",
   "metadata": {},
   "outputs": [],
   "source": [
    "# ネットワークのパラメータを保存\n",
    "save_path = './weights_fine_tuning.pth'\n",
    "torch.save(net.state_dict(), save_path)"
   ]
  },
  {
   "cell_type": "code",
   "execution_count": null,
   "id": "cfceb1bd",
   "metadata": {},
   "outputs": [
    {
     "data": {
      "text/plain": [
       "<All keys matched successfully>"
      ]
     },
     "execution_count": 31,
     "metadata": {},
     "output_type": "execute_result"
    }
   ],
   "source": [
    "# ネットワークのパラメータをロード\n",
    "load_path = './weights_fine_tuning.pth'\n",
    "load_weights = torch.load(load_path)\n",
    "net.load_state_dict(load_weights)\n",
    "\n",
    "load_weights = torch.load(load_path, map_location={\"cuda:0\" : \"cpu\"})\n",
    "net.load_state_dict(load_weights)"
   ]
  },
  {
   "cell_type": "code",
   "execution_count": null,
   "id": "113b2e62",
   "metadata": {},
   "outputs": [],
   "source": []
  }
 ],
 "metadata": {
  "kernelspec": {
   "display_name": "Python 3",
   "language": "python",
   "name": "python3"
  },
  "language_info": {
   "codemirror_mode": {
    "name": "ipython",
    "version": 3
   },
   "file_extension": ".py",
   "mimetype": "text/x-python",
   "name": "python",
   "nbconvert_exporter": "python",
   "pygments_lexer": "ipython3",
   "version": "3.11.13"
  }
 },
 "nbformat": 4,
 "nbformat_minor": 5
}
